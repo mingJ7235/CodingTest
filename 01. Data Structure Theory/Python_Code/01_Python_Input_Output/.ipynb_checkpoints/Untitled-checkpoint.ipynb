{
 "cells": [
  {
   "cell_type": "markdown",
   "metadata": {},
   "source": [
    "### Q1. 화면에 \"Hello World\" 출력"
   ]
  },
  {
   "cell_type": "code",
   "execution_count": 1,
   "metadata": {},
   "outputs": [
    {
     "name": "stdout",
     "output_type": "stream",
     "text": [
      "Hello World\n"
     ]
    }
   ],
   "source": [
    "print(\"Hello World\")"
   ]
  },
  {
   "cell_type": "markdown",
   "metadata": {},
   "source": [
    "### Q2. 화면에 \"Mary's cosemtics\" 출력"
   ]
  },
  {
   "cell_type": "code",
   "execution_count": 2,
   "metadata": {},
   "outputs": [
    {
     "name": "stdout",
     "output_type": "stream",
     "text": [
      "Mary's cosmetics\n"
     ]
    }
   ],
   "source": [
    "print(\"Mary\\'s cosmetics\")"
   ]
  },
  {
   "cell_type": "markdown",
   "metadata": {},
   "source": [
    "### Q3. 포맷 연산자 : 3.141592값 출력 (소수점 아래로 두 자리만)"
   ]
  },
  {
   "cell_type": "code",
   "execution_count": 4,
   "metadata": {},
   "outputs": [
    {
     "name": "stdout",
     "output_type": "stream",
     "text": [
      "3.14\n"
     ]
    }
   ],
   "source": [
    "num=3.141592\n",
    "print(\"%.2f\" % num)"
   ]
  },
  {
   "cell_type": "markdown",
   "metadata": {},
   "source": [
    "### Q4. 사용자입력 : 사용자로부터 두개 숫자 입력받고 두개 숫자 더한값 출력하는 프로그램"
   ]
  },
  {
   "cell_type": "code",
   "execution_count": 5,
   "metadata": {},
   "outputs": [
    {
     "name": "stdout",
     "output_type": "stream",
     "text": [
      "2\n",
      "6\n",
      "8\n"
     ]
    }
   ],
   "source": [
    "num1 = input()\n",
    "num2 = input()\n",
    "print (int(num1) + int(num2))"
   ]
  },
  {
   "cell_type": "markdown",
   "metadata": {},
   "source": [
    "### Q5. 반복문 연습"
   ]
  },
  {
   "cell_type": "code",
   "execution_count": 15,
   "metadata": {},
   "outputs": [
    {
     "name": "stdout",
     "output_type": "stream",
     "text": [
      "반복할 횟수를 입력해주세요\n",
      "5\n",
      "Hello\n",
      "Hello\n",
      "Hello\n",
      "Hello\n",
      "Hello\n"
     ]
    }
   ],
   "source": [
    "print(\"반복할 횟수를 입력해주세요\")\n",
    "cnt = input()\n",
    "for i in range(int(cnt)):\n",
    "    print(\"Hello\")"
   ]
  },
  {
   "cell_type": "markdown",
   "metadata": {},
   "source": [
    "### Q6. 형변환"
   ]
  },
  {
   "cell_type": "code",
   "execution_count": 17,
   "metadata": {},
   "outputs": [
    {
     "name": "stdout",
     "output_type": "stream",
     "text": [
      "문자열 '720'을 정수형으로 변환\n",
      "720\n",
      "정수 100을 문자열 '100'으로 변환\n",
      "100\n"
     ]
    }
   ],
   "source": [
    "print(\"문자열 '720'을 정수형으로 변환\")\n",
    "data = \"720\"\n",
    "print (int (data))\n",
    "\n",
    "print (\"정수 100을 문자열 '100'으로 변환\")\n",
    "num = 100\n",
    "print (str(num))"
   ]
  },
  {
   "cell_type": "markdown",
   "metadata": {},
   "source": [
    "### Q7. 사칙연산"
   ]
  },
  {
   "cell_type": "code",
   "execution_count": 18,
   "metadata": {},
   "outputs": [
    {
     "name": "stdout",
     "output_type": "stream",
     "text": [
      "사용자로부터 두개 숫자 입력받은 후 두 숫자의 사칙연산을 출력하라\n",
      "3\n",
      "8\n",
      "11\n",
      "-5\n",
      "24\n",
      "0.375\n"
     ]
    }
   ],
   "source": [
    "print(\"사용자로부터 두개 숫자 입력받은 후 두 숫자의 사칙연산을 출력하라\")\n",
    "\n",
    "num1 = input()\n",
    "num2 = input()\n",
    "\n",
    "print (int(num1) + int (num2))\n",
    "print (int(num1) - int (num2))\n",
    "print (int(num1) * int (num2))\n",
    "print (int(num1) / int (num2))"
   ]
  },
  {
   "cell_type": "markdown",
   "metadata": {},
   "source": [
    "### Q8. 거듭제곱"
   ]
  },
  {
   "cell_type": "code",
   "execution_count": 19,
   "metadata": {},
   "outputs": [
    {
     "name": "stdout",
     "output_type": "stream",
     "text": [
      "사용자로부터 밑의 지수를 입력 받은 후 거듭제곱 값 출력하기\n",
      "2\n",
      "6\n",
      "64\n"
     ]
    }
   ],
   "source": [
    "print(\"사용자로부터 밑의 지수를 입력 받은 후 거듭제곱 값 출력하기\")\n",
    "\n",
    "num1 = input()\n",
    "num2 = input()\n",
    "\n",
    "print (int(num1) ** int(num2))"
   ]
  },
  {
   "cell_type": "markdown",
   "metadata": {},
   "source": [
    "### Q9. 입력과 출력"
   ]
  },
  {
   "cell_type": "code",
   "execution_count": 20,
   "metadata": {},
   "outputs": [
    {
     "name": "stdout",
     "output_type": "stream",
     "text": [
      "사용자로부터 두개 숫자 입력받은 후 두개의 숫자의 사칙연산을 각각 출력하는 프로그램 작성\n",
      "5\n",
      "9\n",
      "14\n",
      "-4\n",
      "45\n",
      "0.5555555555555556\n",
      "0\n",
      "5\n"
     ]
    }
   ],
   "source": [
    "print (\"사용자로부터 두개 숫자 입력받은 후 두개의 숫자의 사칙연산을 각각 출력하는 프로그램 작성\")\n",
    "\n",
    "num1 = input()\n",
    "num2 = input()\n",
    "\n",
    "print ( int(num1) + int(num2) )\n",
    "print ( int(num1) - int(num2) )\n",
    "print ( int(num1) * int(num2) )\n",
    "print ( int(num1) / int(num2) )\n",
    "print ( int(num1) // int(num2) ) #몫\n",
    "print ( int(num1) % int(num2) ) # 나머지"
   ]
  },
  {
   "cell_type": "markdown",
   "metadata": {},
   "source": [
    "### Q10. 입력과 출력"
   ]
  },
  {
   "cell_type": "code",
   "execution_count": 22,
   "metadata": {},
   "outputs": [
    {
     "name": "stdout",
     "output_type": "stream",
     "text": [
      "두개의 숫자 입력받기. format()함수 사용하여 출력, 나눈 값은 소숫점 첫째 자리까지만 출력\n",
      "3\n",
      "1\n",
      "3 / 1 = 3.0\n"
     ]
    }
   ],
   "source": [
    "print(\"두개의 숫자 입력받기. format()함수 사용하여 출력, 나눈 값은 소숫점 첫째 자리까지만 출력\")\n",
    "\n",
    "num1 = int(input())\n",
    "num2 = int(input())\n",
    "\n",
    "print ( '{0} / {1} = {2:0.1f}' .format(num1, num2, num1/num2))"
   ]
  },
  {
   "cell_type": "code",
   "execution_count": null,
   "metadata": {},
   "outputs": [],
   "source": []
  }
 ],
 "metadata": {
  "kernelspec": {
   "display_name": "Python 3",
   "language": "python",
   "name": "python3"
  },
  "language_info": {
   "codemirror_mode": {
    "name": "ipython",
    "version": 3
   },
   "file_extension": ".py",
   "mimetype": "text/x-python",
   "name": "python",
   "nbconvert_exporter": "python",
   "pygments_lexer": "ipython3",
   "version": "3.8.5"
  }
 },
 "nbformat": 4,
 "nbformat_minor": 4
}
