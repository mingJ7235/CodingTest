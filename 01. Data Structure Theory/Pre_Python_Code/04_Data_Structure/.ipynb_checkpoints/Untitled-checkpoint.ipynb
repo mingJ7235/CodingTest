{
 "cells": [
  {
   "cell_type": "code",
   "execution_count": 1,
   "metadata": {},
   "outputs": [
    {
     "name": "stdout",
     "output_type": "stream",
     "text": [
      "a\n"
     ]
    }
   ],
   "source": [
    "tuple_data = (\"a\",\"b\",\"c\",\"d\",\"e\")\n",
    "print(tuple_data[0])"
   ]
  },
  {
   "cell_type": "code",
   "execution_count": 1,
   "metadata": {},
   "outputs": [],
   "source": [
    "#튜플은  중요한 데이터를 저장할때 사용하는것이 좋다. (수정이 불가능하다)"
   ]
  },
  {
   "cell_type": "code",
   "execution_count": 2,
   "metadata": {},
   "outputs": [
    {
     "name": "stdout",
     "output_type": "stream",
     "text": [
      "2 1\n"
     ]
    }
   ],
   "source": [
    "var1, var2 = 1, 2\n",
    "var1, var2 = var2, var1\n",
    "\n",
    "print (var1, var2)"
   ]
  },
  {
   "cell_type": "code",
   "execution_count": 3,
   "metadata": {},
   "outputs": [
    {
     "data": {
      "text/plain": [
       "('a2', 'a3', 'a4', 'a5')"
      ]
     },
     "execution_count": 3,
     "metadata": {},
     "output_type": "execute_result"
    }
   ],
   "source": [
    "tupledata = ('a1', 'a2', 'a3', 'a4', 'a5')\n",
    "tupledata[1:]"
   ]
  },
  {
   "cell_type": "code",
   "execution_count": 4,
   "metadata": {},
   "outputs": [
    {
     "data": {
      "text/plain": [
       "['a2', 'a3', 'a4', 'a5']"
      ]
     },
     "execution_count": 4,
     "metadata": {},
     "output_type": "execute_result"
    }
   ],
   "source": [
    "list = ['a1', 'a2', 'a3', 'a4', 'a5']\n",
    "list[1:]"
   ]
  },
  {
   "cell_type": "code",
   "execution_count": 15,
   "metadata": {},
   "outputs": [
    {
     "name": "stdout",
     "output_type": "stream",
     "text": [
      "<class 'tuple'>\n",
      "<class 'list'>\n",
      "['a1', 'a2', 'a3', 'a4']\n",
      "<class 'tuple'>\n"
     ]
    }
   ],
   "source": [
    "tupledata = ('a1', 'a2', 'a3')\n",
    "print (type(tupledata))\n",
    "\n",
    "listdata = list(tupledata)\n",
    "print (type(listdata))\n",
    "\n",
    "listdata.append('a4')\n",
    "print(listdata)\n",
    "\n",
    "tupledata2 = tuple(listdata)\n",
    "print (type(tupledata2))\n"
   ]
  },
  {
   "cell_type": "code",
   "execution_count": 16,
   "metadata": {},
   "outputs": [
    {
     "name": "stdout",
     "output_type": "stream",
     "text": [
      "<class 'tuple'>\n",
      "<class 'list'>\n",
      "<class 'dict'>\n"
     ]
    }
   ],
   "source": [
    "tupledata = tuple()\n",
    "listdata = list ()\n",
    "dictdata = dict()\n",
    "\n",
    "print(type(tupledata))\n",
    "print(type(listdata))\n",
    "print(type(dictdata))"
   ]
  },
  {
   "cell_type": "code",
   "execution_count": 28,
   "metadata": {},
   "outputs": [
    {
     "name": "stdout",
     "output_type": "stream",
     "text": [
      "{'environment': '환경', 'company': '회사', 'government': '정부, 정치', 'face': '얼굴'}\n",
      "['environment', 'company', 'government', 'face']\n",
      "['환경', '회사', '정부, 정치', '얼굴']\n"
     ]
    }
   ],
   "source": [
    "engDic = {'environment': '환경', 'company' : '회사', 'government' : '정부, 정치', 'face' : '얼굴'}\n",
    "\n",
    "keyList = [data for data in engDic.keys()]\n",
    "valList = [datas for datas in engDic.values()]\n",
    "print(engDic)\n",
    "print(keyList)\n",
    "print(valList)"
   ]
  },
  {
   "cell_type": "code",
   "execution_count": 31,
   "metadata": {},
   "outputs": [
    {
     "name": "stdout",
     "output_type": "stream",
     "text": [
      "environment : 환경\n",
      "company : 회사\n",
      "government : 정부, 정치\n",
      "face : 얼굴\n"
     ]
    }
   ],
   "source": [
    "dic = {'environment': '환경', 'company' : '회사', 'government' : '정부, 정치', 'face' : '얼굴'}\n",
    "keys = [data for data in dic.keys()]\n",
    "values = [data for data in dic.values()]\n",
    "\n",
    "for i in range (0, len(dic)):\n",
    "    print(keys[i], \":\", values[i])"
   ]
  },
  {
   "cell_type": "code",
   "execution_count": 32,
   "metadata": {},
   "outputs": [
    {
     "name": "stdout",
     "output_type": "stream",
     "text": [
      "environment : 환경\n",
      "company : 회사\n",
      "government : 정부, 정치\n",
      "face : 얼굴\n"
     ]
    }
   ],
   "source": [
    "dictdata = {'environment': '환경', 'company' : '회사', 'government' : '정부, 정치', 'face' : '얼굴'}\n",
    "\n",
    "for data in dictdata.keys():\n",
    "    print(data, \":\", dictdata[data])"
   ]
  },
  {
   "cell_type": "code",
   "execution_count": 9,
   "metadata": {},
   "outputs": [
    {
     "name": "stdout",
     "output_type": "stream",
     "text": [
      "environment\n",
      "government\n",
      "face\n"
     ]
    }
   ],
   "source": [
    "dictdata = {'environment': ['환경', 'X'], 'company' : ['회사', 'O'], 'government' : ['정부, 정치', 'X'], 'face' : ['얼굴', 'X']}\n",
    "\n",
    "for data in dictdata.keys():\n",
    "    if dictdata[data][1] == \"X\" :\n",
    "        print(data)\n",
    "        "
   ]
  },
  {
   "cell_type": "code",
   "execution_count": 18,
   "metadata": {},
   "outputs": [
    {
     "name": "stdout",
     "output_type": "stream",
     "text": [
      "environment\n",
      "O\n",
      "government\n",
      "face\n"
     ]
    }
   ],
   "source": [
    "dictdata = {'environment': ['환경', 'X'], 'company' : ['회사', 'O'], 'government' : ['정부, 정치', 'X'], 'face' : ['얼굴', 'X']}\n",
    "\n",
    "word = input()\n",
    "dictdata[word][1] = \"O\"\n",
    "\n",
    "print (dictdata[word][1])\n",
    "\n",
    "for data in dictdata.keys() :\n",
    "    if dictdata[data][1] == \"X\" :\n",
    "        print(data)"
   ]
  },
  {
   "cell_type": "code",
   "execution_count": 3,
   "metadata": {},
   "outputs": [
    {
     "name": "stdout",
     "output_type": "stream",
     "text": [
      "government\n",
      "O\n",
      "environment\n",
      "face\n"
     ]
    }
   ],
   "source": [
    "dictdata = {'environment': ['환경', 'X'], 'company' : ['회사', 'O'], 'government' : ['정부, 정치', 'X'], 'face' : ['얼굴', 'X']}\n",
    "\n",
    "word = input()\n",
    "dictdata[word][1] = \"O\"\n",
    "\n",
    "print(dictdata[word][1])\n",
    "\n",
    "for data in dictdata.keys() :\n",
    "    if dictdata[data][1] == \"X\" :\n",
    "        print(data)\n",
    "    "
   ]
  },
  {
   "cell_type": "code",
   "execution_count": 10,
   "metadata": {},
   "outputs": [
    {
     "name": "stdout",
     "output_type": "stream",
     "text": [
      "{'environment': '환경', 'government': '정부,정치', 'company': '회사', 'face': '얼굴', 'apple': '사과'}\n"
     ]
    }
   ],
   "source": [
    "dict_all ={'environment' : '환경', 'government':'정부,정치'}\n",
    "dict2 = {'company' :'회사', 'face':'얼굴'}\n",
    "dict3 = {'apple':'사과'}\n",
    "\n",
    "for data in dict2.keys():\n",
    "    dict_all[data] = dict2[data]\n",
    "for data in dict3.keys():\n",
    "    dict_all[data] = dict3[data]\n",
    "print(dict_all)"
   ]
  },
  {
   "cell_type": "code",
   "execution_count": null,
   "metadata": {},
   "outputs": [],
   "source": []
  }
 ],
 "metadata": {
  "kernelspec": {
   "display_name": "Python 3",
   "language": "python",
   "name": "python3"
  },
  "language_info": {
   "codemirror_mode": {
    "name": "ipython",
    "version": 3
   },
   "file_extension": ".py",
   "mimetype": "text/x-python",
   "name": "python",
   "nbconvert_exporter": "python",
   "pygments_lexer": "ipython3",
   "version": "3.8.5"
  }
 },
 "nbformat": 4,
 "nbformat_minor": 4
}
