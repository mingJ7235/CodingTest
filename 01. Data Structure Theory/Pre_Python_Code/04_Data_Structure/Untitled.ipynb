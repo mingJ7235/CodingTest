{
 "cells": [
  {
   "cell_type": "code",
   "execution_count": 1,
   "metadata": {},
   "outputs": [
    {
     "name": "stdout",
     "output_type": "stream",
     "text": [
      "a\n"
     ]
    }
   ],
   "source": [
    "tuple_data = (\"a\",\"b\",\"c\",\"d\",\"e\")\n",
    "print(tuple_data[0])"
   ]
  },
  {
   "cell_type": "code",
   "execution_count": 1,
   "metadata": {},
   "outputs": [],
   "source": [
    "#튜플은  중요한 데이터를 저장할때 사용하는것이 좋다. (수정이 불가능하다)"
   ]
  },
  {
   "cell_type": "code",
   "execution_count": 2,
   "metadata": {},
   "outputs": [
    {
     "name": "stdout",
     "output_type": "stream",
     "text": [
      "2 1\n"
     ]
    }
   ],
   "source": [
    "var1, var2 = 1, 2\n",
    "var1, var2 = var2, var1\n",
    "\n",
    "print (var1, var2)"
   ]
  },
  {
   "cell_type": "code",
   "execution_count": 3,
   "metadata": {},
   "outputs": [
    {
     "data": {
      "text/plain": [
       "('a2', 'a3', 'a4', 'a5')"
      ]
     },
     "execution_count": 3,
     "metadata": {},
     "output_type": "execute_result"
    }
   ],
   "source": [
    "tupledata = ('a1', 'a2', 'a3', 'a4', 'a5')\n",
    "tupledata[1:]"
   ]
  },
  {
   "cell_type": "code",
   "execution_count": 4,
   "metadata": {},
   "outputs": [
    {
     "data": {
      "text/plain": [
       "['a2', 'a3', 'a4', 'a5']"
      ]
     },
     "execution_count": 4,
     "metadata": {},
     "output_type": "execute_result"
    }
   ],
   "source": [
    "list = ['a1', 'a2', 'a3', 'a4', 'a5']\n",
    "list[1:]"
   ]
  },
  {
   "cell_type": "code",
   "execution_count": 15,
   "metadata": {},
   "outputs": [
    {
     "name": "stdout",
     "output_type": "stream",
     "text": [
      "<class 'tuple'>\n",
      "<class 'list'>\n",
      "['a1', 'a2', 'a3', 'a4']\n",
      "<class 'tuple'>\n"
     ]
    }
   ],
   "source": [
    "tupledata = ('a1', 'a2', 'a3')\n",
    "print (type(tupledata))\n",
    "\n",
    "listdata = list(tupledata)\n",
    "print (type(listdata))\n",
    "\n",
    "listdata.append('a4')\n",
    "print(listdata)\n",
    "\n",
    "tupledata2 = tuple(listdata)\n",
    "print (type(tupledata2))\n"
   ]
  },
  {
   "cell_type": "code",
   "execution_count": 16,
   "metadata": {},
   "outputs": [
    {
     "name": "stdout",
     "output_type": "stream",
     "text": [
      "<class 'tuple'>\n",
      "<class 'list'>\n",
      "<class 'dict'>\n"
     ]
    }
   ],
   "source": [
    "tupledata = tuple()\n",
    "listdata = list ()\n",
    "dictdata = dict()\n",
    "\n",
    "print(type(tupledata))\n",
    "print(type(listdata))\n",
    "print(type(dictdata))"
   ]
  },
  {
   "cell_type": "code",
   "execution_count": 28,
   "metadata": {},
   "outputs": [
    {
     "name": "stdout",
     "output_type": "stream",
     "text": [
      "{'environment': '환경', 'company': '회사', 'government': '정부, 정치', 'face': '얼굴'}\n",
      "['environment', 'company', 'government', 'face']\n",
      "['환경', '회사', '정부, 정치', '얼굴']\n"
     ]
    }
   ],
   "source": [
    "engDic = {'environment': '환경', 'company' : '회사', 'government' : '정부, 정치', 'face' : '얼굴'}\n",
    "\n",
    "keyList = [data for data in engDic.keys()]\n",
    "valList = [datas for datas in engDic.values()]\n",
    "print(engDic)\n",
    "print(keyList)\n",
    "print(valList)"
   ]
  },
  {
   "cell_type": "code",
   "execution_count": null,
   "metadata": {},
   "outputs": [],
   "source": []
  }
 ],
 "metadata": {
  "kernelspec": {
   "display_name": "Python 3",
   "language": "python",
   "name": "python3"
  },
  "language_info": {
   "codemirror_mode": {
    "name": "ipython",
    "version": 3
   },
   "file_extension": ".py",
   "mimetype": "text/x-python",
   "name": "python",
   "nbconvert_exporter": "python",
   "pygments_lexer": "ipython3",
   "version": "3.8.5"
  }
 },
 "nbformat": 4,
 "nbformat_minor": 4
}
