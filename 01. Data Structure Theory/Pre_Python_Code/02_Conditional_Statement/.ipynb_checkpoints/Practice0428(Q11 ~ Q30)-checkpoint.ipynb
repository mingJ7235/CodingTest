{
 "cells": [
  {
   "cell_type": "code",
   "execution_count": 2,
   "metadata": {},
   "outputs": [
    {
     "name": "stdout",
     "output_type": "stream",
     "text": [
      "4\n",
      "3\n",
      "4, 3, 1.3\n"
     ]
    }
   ],
   "source": [
    "digit1 = int(input())\n",
    "digit2 = int(input())\n",
    "\n",
    "print('{0}, {1}, {2:0.1f}'.format(digit1, digit2, digit1 / digit2))"
   ]
  },
  {
   "cell_type": "code",
   "execution_count": 3,
   "metadata": {},
   "outputs": [],
   "source": [
    "digit1 = 10\n",
    "digit2 = 2.2\n",
    "string1 = \"fun\""
   ]
  },
  {
   "cell_type": "code",
   "execution_count": 4,
   "metadata": {},
   "outputs": [
    {
     "name": "stdout",
     "output_type": "stream",
     "text": [
      "<class 'int'>\n",
      "<class 'float'>\n",
      "<class 'str'>\n"
     ]
    }
   ],
   "source": [
    "print(type(digit1))\n",
    "print(type(digit2))\n",
    "print(type(string1))"
   ]
  },
  {
   "cell_type": "code",
   "execution_count": 5,
   "metadata": {},
   "outputs": [
    {
     "ename": "TypeError",
     "evalue": "unsupported operand type(s) for +: 'int' and 'str'",
     "output_type": "error",
     "traceback": [
      "\u001b[0;31m---------------------------------------------------------------------------\u001b[0m",
      "\u001b[0;31mTypeError\u001b[0m                                 Traceback (most recent call last)",
      "\u001b[0;32m<ipython-input-5-6954cd72e77d>\u001b[0m in \u001b[0;36m<module>\u001b[0;34m\u001b[0m\n\u001b[0;32m----> 1\u001b[0;31m \u001b[0mprint\u001b[0m\u001b[0;34m(\u001b[0m\u001b[0mdigit1\u001b[0m \u001b[0;34m+\u001b[0m \u001b[0mstring1\u001b[0m\u001b[0;34m)\u001b[0m\u001b[0;34m\u001b[0m\u001b[0;34m\u001b[0m\u001b[0m\n\u001b[0m",
      "\u001b[0;31mTypeError\u001b[0m: unsupported operand type(s) for +: 'int' and 'str'"
     ]
    }
   ],
   "source": [
    "print(digit1 + string1)"
   ]
  },
  {
   "cell_type": "code",
   "execution_count": 6,
   "metadata": {},
   "outputs": [
    {
     "name": "stdout",
     "output_type": "stream",
     "text": [
      "12.2\n"
     ]
    }
   ],
   "source": [
    "print(digit1 + digit2)"
   ]
  },
  {
   "cell_type": "code",
   "execution_count": 10,
   "metadata": {},
   "outputs": [
    {
     "name": "stdout",
     "output_type": "stream",
     "text": [
      "조건문 연습\n",
      "100\n",
      "99\n",
      "99\n"
     ]
    }
   ],
   "source": [
    "print(\"조건문 연습\")\n",
    "digit1 = input()\n",
    "digit2 = input()\n",
    "\n",
    "if digit1 > digit2:\n",
    "    print(digit1)\n",
    "else : \n",
    "    print(digit2)\n",
    "    \n",
    "print(\"digit1를 문자로 인식하여 판단한다. 숫자로 판단하지 못한다. \")"
   ]
  },
  {
   "cell_type": "code",
   "execution_count": 11,
   "metadata": {},
   "outputs": [
    {
     "name": "stdout",
     "output_type": "stream",
     "text": [
      "조건문 연습\n",
      "100\n",
      "99\n",
      "99\n"
     ]
    }
   ],
   "source": [
    "print(\"조건문 연습\")\n",
    "digit1 = input()\n",
    "digit2 = input()\n",
    "\n",
    "if digit1 > digit2:\n",
    "    print(int(digit1))\n",
    "else : \n",
    "    print(int(digit2))"
   ]
  },
  {
   "cell_type": "code",
   "execution_count": 12,
   "metadata": {},
   "outputs": [
    {
     "name": "stdout",
     "output_type": "stream",
     "text": [
      "조건문 연습\n",
      "100\n",
      "99\n",
      "100\n"
     ]
    }
   ],
   "source": [
    "print(\"조건문 연습\")\n",
    "digit1 = int(input())\n",
    "digit2 = int(input())\n",
    "\n",
    "if digit1 > digit2:\n",
    "    print(digit1)\n",
    "else : \n",
    "    print(digit2)"
   ]
  },
  {
   "cell_type": "code",
   "execution_count": 13,
   "metadata": {},
   "outputs": [
    {
     "name": "stdout",
     "output_type": "stream",
     "text": [
      "input()으로 받는 값은 무조건 str타입이다\n",
      "4\n",
      "<class 'str'>\n",
      "5\n",
      "<class 'int'>\n"
     ]
    }
   ],
   "source": [
    "print(\"input()으로 받는 값은 무조건 str타입이다\")\n",
    "\n",
    "digit1 = input()\n",
    "print(type(digit1))\n",
    "\n",
    "digit2 = int(input())\n",
    "print(type(digit2))"
   ]
  },
  {
   "cell_type": "code",
   "execution_count": 17,
   "metadata": {},
   "outputs": [
    {
     "name": "stdout",
     "output_type": "stream",
     "text": [
      "4\n",
      "짝수\n"
     ]
    }
   ],
   "source": [
    "digit1 = int(input())\n",
    "\n",
    "if digit1 % 2 == 0 :\n",
    "    print(\"짝수\")\n",
    "else :\n",
    "\n",
    "    print(\"홀수\")"
   ]
  },
  {
   "cell_type": "code",
   "execution_count": 18,
   "metadata": {},
   "outputs": [
    {
     "name": "stdout",
     "output_type": "stream",
     "text": [
      "입력받은 값중 가장 작은 값 찾기\n",
      "6\n",
      "5\n",
      "4\n",
      "4\n"
     ]
    }
   ],
   "source": [
    "print(\"입력받은 값중 가장 작은 값 찾기\")\n",
    "digit1 = int(input())\n",
    "digit2 = int(input())\n",
    "digit3 = int(input())\n",
    "\n",
    "if digit1 < digit2 :\n",
    "    minnum = digit1\n",
    "else :\n",
    "    minnum = digit2\n",
    "    \n",
    "if minnum < digit3 :\n",
    "    print(minnum)\n",
    "else :\n",
    "    print(digit3)"
   ]
  },
  {
   "cell_type": "code",
   "execution_count": 21,
   "metadata": {},
   "outputs": [
    {
     "name": "stdout",
     "output_type": "stream",
     "text": [
      "75\n",
      "B\n"
     ]
    }
   ],
   "source": [
    "score = int(input())\n",
    "\n",
    "if score > 100 :\n",
    "    print(\"점수 잘못입력\")\n",
    "elif score > 80 : \n",
    "    print(\"A\")\n",
    "elif score > 60 :\n",
    "    print(\"B\")\n",
    "elif score >= 0 :\n",
    "    print(\"C\")\n",
    "else :\n",
    "    print(\"점수잘못입력\")"
   ]
  },
  {
   "cell_type": "code",
   "execution_count": 22,
   "metadata": {},
   "outputs": [
    {
     "name": "stdout",
     "output_type": "stream",
     "text": [
      "str도 배열처럼 생각하자\n",
      "123\n"
     ]
    }
   ],
   "source": [
    "print(\"str도 배열처럼 생각하자\")\n",
    "string1 = \"12345678\"\n",
    "print(string1[0:3])"
   ]
  },
  {
   "cell_type": "code",
   "execution_count": 27,
   "metadata": {},
   "outputs": [
    {
     "name": "stdout",
     "output_type": "stream",
     "text": [
      "920113-1067018\n",
      "1\n",
      "남자\n"
     ]
    }
   ],
   "source": [
    "personId = input()\n",
    "\n",
    "genderNum = personId[7]\n",
    "\n",
    "print(genderNum)\n",
    "if genderNum == \"1\" :\n",
    "    print(\"남자\")\n",
    "elif genderNum == \"2\" :\n",
    "    print(\"여자\")\n",
    "elif genderNum == \"3\" :\n",
    "    print(\"2000년대이후 남자\")\n",
    "else :\n",
    "    print(\"2000년대이후 여자\")"
   ]
  },
  {
   "cell_type": "code",
   "execution_count": 37,
   "metadata": {},
   "outputs": [
    {
     "name": "stdout",
     "output_type": "stream",
     "text": [
      "How i met your mother... how how how\n",
      "1\n"
     ]
    }
   ],
   "source": [
    "sentence = \"How i met your mother... how how how\"\n",
    "print(sentence.strip(\".\"))\n",
    "print(sentence.count(\"How\"))"
   ]
  },
  {
   "cell_type": "code",
   "execution_count": 39,
   "metadata": {},
   "outputs": [
    {
     "name": "stdout",
     "output_type": "stream",
     "text": [
      "H\n",
      " \n",
      " \n"
     ]
    }
   ],
   "source": [
    "print(sentence[0])\n",
    "print(sentence[3])\n",
    "print(sentence[5])\n"
   ]
  },
  {
   "cell_type": "code",
   "execution_count": 46,
   "metadata": {},
   "outputs": [
    {
     "name": "stdout",
     "output_type": "stream",
     "text": [
      "ㅁㅁㅇㄹㅁa\n",
      "find함수는 몇번째 인덱스에 문자가 있는지 찾아준다\n",
      "5\n",
      "문자있음\n"
     ]
    }
   ],
   "source": [
    "letters = input()\n",
    "\n",
    "print(\"find함수는 몇번째 인덱스에 문자가 있는지 찾아준다\")\n",
    "print(letters.find(\"a\"))\n",
    "\n",
    "if letters.find(\"a\") >= 0:\n",
    "    print(\"문자있음\")\n",
    "else :\n",
    "    print(\"문자 없음\")\n"
   ]
  },
  {
   "cell_type": "code",
   "execution_count": null,
   "metadata": {},
   "outputs": [],
   "source": []
  }
 ],
 "metadata": {
  "kernelspec": {
   "display_name": "Python 3",
   "language": "python",
   "name": "python3"
  },
  "language_info": {
   "codemirror_mode": {
    "name": "ipython",
    "version": 3
   },
   "file_extension": ".py",
   "mimetype": "text/x-python",
   "name": "python",
   "nbconvert_exporter": "python",
   "pygments_lexer": "ipython3",
   "version": "3.8.5"
  }
 },
 "nbformat": 4,
 "nbformat_minor": 4
}
