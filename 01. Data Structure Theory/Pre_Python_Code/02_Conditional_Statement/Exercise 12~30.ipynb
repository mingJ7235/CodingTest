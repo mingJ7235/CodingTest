{
 "cells": [
  {
   "cell_type": "markdown",
   "metadata": {},
   "source": [
    "### Q. Exercise 12 기본자료형"
   ]
  },
  {
   "cell_type": "code",
   "execution_count": 1,
   "metadata": {},
   "outputs": [
    {
     "name": "stdout",
     "output_type": "stream",
     "text": [
      "10, 2.2, \"fun-coding\" 각각을 변수에 넣고, 각데이터 타입 출력\n",
      "<class 'int'>\n",
      "<class 'float'>\n",
      "<class 'str'>\n"
     ]
    }
   ],
   "source": [
    "print(\"10, 2.2, \\\"fun-coding\\\" 각각을 변수에 넣고, 각데이터 타입 출력\")\n",
    "num = 10\n",
    "digit = 2.2\n",
    "data = \"fun-coding\"\n",
    "\n",
    "print (type(num))\n",
    "print (type(2.2))\n",
    "print (type(data))\n"
   ]
  },
  {
   "cell_type": "code",
   "execution_count": 2,
   "metadata": {},
   "outputs": [
    {
     "name": "stdout",
     "output_type": "stream",
     "text": [
      "Exercise 13\n",
      "000060\n",
      "000000102\t12312312\n"
     ]
    }
   ],
   "source": [
    "print(\"Exercise 13\")\n",
    "code = '000060\\n000000102\\t12312312'\n",
    "print(code)"
   ]
  },
  {
   "cell_type": "code",
   "execution_count": 3,
   "metadata": {},
   "outputs": [
    {
     "name": "stdout",
     "output_type": "stream",
     "text": [
      "Excercise 13-2\n",
      "000060\t0000001010\t123123123\n"
     ]
    }
   ],
   "source": [
    "print(\"Excercise 13-2\")\n",
    "print('000060\\t0000001010\\t123123123')"
   ]
  },
  {
   "cell_type": "code",
   "execution_count": 4,
   "metadata": {},
   "outputs": [
    {
     "name": "stdout",
     "output_type": "stream",
     "text": [
      "Excercise 13-3\n",
      "hello\n",
      "hello\n",
      "enter\n"
     ]
    }
   ],
   "source": [
    "print(\"Excercise 13-3\")\n",
    "print('hello\\nhello\\nenter')"
   ]
  },
  {
   "cell_type": "code",
   "execution_count": 6,
   "metadata": {},
   "outputs": [
    {
     "name": "stdout",
     "output_type": "stream",
     "text": [
      "Excerceis 14 조건문\n",
      "100\n",
      "99\n",
      "99\n"
     ]
    }
   ],
   "source": [
    "print('Excerceis 14 조건문' )\n",
    "num1 = input()\n",
    "num2 = input()\n",
    "\n",
    "# 틀린 조건문\n",
    "if num1 > num2:\n",
    "    print (num1)\n",
    "else:\n",
    "    print (num2)"
   ]
  },
  {
   "cell_type": "code",
   "execution_count": 7,
   "metadata": {},
   "outputs": [
    {
     "name": "stdout",
     "output_type": "stream",
     "text": [
      "Excercise 14-1 조건문 (옳은것)\n",
      "100\n",
      "99\n",
      "100\n"
     ]
    }
   ],
   "source": [
    "print ('Excercise 14-1 조건문 (옳은것)')\n",
    "num1 = input()\n",
    "num2 = input()\n",
    "\n",
    "if (int(num1)) > (int(num2)):\n",
    "    print (num1)\n",
    "else :\n",
    "    print (num2)"
   ]
  },
  {
   "cell_type": "code",
   "execution_count": 10,
   "metadata": {},
   "outputs": [
    {
     "name": "stdout",
     "output_type": "stream",
     "text": [
      "Excercise 15 조건문\n",
      "사용자로부터 입력받은 숫자가 홀수인지 짝수인지 출력하세요\n",
      "5\n",
      "<class 'int'>\n",
      "홀수\n"
     ]
    }
   ],
   "source": [
    "print ('Excercise 15 조건문\\n사용자로부터 입력받은 숫자가 홀수인지 짝수인지 출력하세요')\n",
    "num = int(input())\n",
    "print(type(num))\n",
    "\n",
    "if num % 2 == 0:\n",
    "    print(\"짝수\")\n",
    "else:\n",
    "    print(\"홀수\")"
   ]
  },
  {
   "cell_type": "code",
   "execution_count": null,
   "metadata": {},
   "outputs": [],
   "source": []
  }
 ],
 "metadata": {
  "kernelspec": {
   "display_name": "Python 3",
   "language": "python",
   "name": "python3"
  },
  "language_info": {
   "codemirror_mode": {
    "name": "ipython",
    "version": 3
   },
   "file_extension": ".py",
   "mimetype": "text/x-python",
   "name": "python",
   "nbconvert_exporter": "python",
   "pygments_lexer": "ipython3",
   "version": "3.8.5"
  }
 },
 "nbformat": 4,
 "nbformat_minor": 4
}
