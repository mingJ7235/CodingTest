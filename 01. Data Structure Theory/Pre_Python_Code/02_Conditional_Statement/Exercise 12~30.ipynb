{
 "cells": [
  {
   "cell_type": "markdown",
   "metadata": {},
   "source": [
    "### Q. Exercise 12 기본자료형"
   ]
  },
  {
   "cell_type": "code",
   "execution_count": 1,
   "metadata": {},
   "outputs": [
    {
     "name": "stdout",
     "output_type": "stream",
     "text": [
      "10, 2.2, \"fun-coding\" 각각을 변수에 넣고, 각데이터 타입 출력\n",
      "<class 'int'>\n",
      "<class 'float'>\n",
      "<class 'str'>\n"
     ]
    }
   ],
   "source": [
    "print(\"10, 2.2, \\\"fun-coding\\\" 각각을 변수에 넣고, 각데이터 타입 출력\")\n",
    "num = 10\n",
    "digit = 2.2\n",
    "data = \"fun-coding\"\n",
    "\n",
    "print (type(num))\n",
    "print (type(2.2))\n",
    "print (type(data))\n"
   ]
  },
  {
   "cell_type": "code",
   "execution_count": 2,
   "metadata": {},
   "outputs": [
    {
     "name": "stdout",
     "output_type": "stream",
     "text": [
      "Exercise 13\n",
      "000060\n",
      "000000102\t12312312\n"
     ]
    }
   ],
   "source": [
    "print(\"Exercise 13\")\n",
    "code = '000060\\n000000102\\t12312312'\n",
    "print(code)"
   ]
  },
  {
   "cell_type": "code",
   "execution_count": 3,
   "metadata": {},
   "outputs": [
    {
     "name": "stdout",
     "output_type": "stream",
     "text": [
      "Excercise 13-2\n",
      "000060\t0000001010\t123123123\n"
     ]
    }
   ],
   "source": [
    "print(\"Exercise 13-2\")\n",
    "print('000060\\t0000001010\\t123123123')"
   ]
  },
  {
   "cell_type": "code",
   "execution_count": 4,
   "metadata": {},
   "outputs": [
    {
     "name": "stdout",
     "output_type": "stream",
     "text": [
      "Excercise 13-3\n",
      "hello\n",
      "hello\n",
      "enter\n"
     ]
    }
   ],
   "source": [
    "print(\"Exercise 13-3\")\n",
    "print('hello\\nhello\\nenter')"
   ]
  },
  {
   "cell_type": "code",
   "execution_count": 6,
   "metadata": {},
   "outputs": [
    {
     "name": "stdout",
     "output_type": "stream",
     "text": [
      "Excerceis 14 조건문\n",
      "100\n",
      "99\n",
      "99\n"
     ]
    }
   ],
   "source": [
    "print('Exerceis 14 조건문' )\n",
    "num1 = input()\n",
    "num2 = input()\n",
    "\n",
    "# 틀린 조건문\n",
    "if num1 > num2:\n",
    "    print (num1)\n",
    "else:\n",
    "    print (num2)"
   ]
  },
  {
   "cell_type": "code",
   "execution_count": 7,
   "metadata": {},
   "outputs": [
    {
     "name": "stdout",
     "output_type": "stream",
     "text": [
      "Excercise 14-1 조건문 (옳은것)\n",
      "100\n",
      "99\n",
      "100\n"
     ]
    }
   ],
   "source": [
    "print ('Exercise 14-1 조건문 (옳은것)')\n",
    "num1 = input()\n",
    "num2 = input()\n",
    "\n",
    "if (int(num1)) > (int(num2)):\n",
    "    print (num1)\n",
    "else :\n",
    "    print (num2)"
   ]
  },
  {
   "cell_type": "code",
   "execution_count": 10,
   "metadata": {},
   "outputs": [
    {
     "name": "stdout",
     "output_type": "stream",
     "text": [
      "Excercise 15 조건문\n",
      "사용자로부터 입력받은 숫자가 홀수인지 짝수인지 출력하세요\n",
      "5\n",
      "<class 'int'>\n",
      "홀수\n"
     ]
    }
   ],
   "source": [
    "print ('Exercise 15 조건문\\n사용자로부터 입력받은 숫자가 홀수인지 짝수인지 출력하세요')\n",
    "num = int(input())\n",
    "print(type(num))\n",
    "\n",
    "if num % 2 == 0:\n",
    "    print(\"짝수\")\n",
    "else:\n",
    "    print(\"홀수\")"
   ]
  },
  {
   "cell_type": "code",
   "execution_count": 12,
   "metadata": {},
   "outputs": [
    {
     "name": "stdout",
     "output_type": "stream",
     "text": [
      "Excercise 16 조건문 \n",
      "사용자로부터 세 개의 숫자를 입력 받은 후 가장 작은 숫자를 출력하세요\n",
      "3\n",
      "1\n",
      "5\n",
      "1\n"
     ]
    }
   ],
   "source": [
    "print ('Exercise 16 조건문 \\n사용자로부터 세 개의 숫자를 입력 받은 후 가장 작은 숫자를 출력하세요')\n",
    "digit1 = int(input())\n",
    "digit2 = int(input())\n",
    "digit3 = int(input())\n",
    "\n",
    "if(digit1 < digit2) :\n",
    "    min = digit1\n",
    "else :\n",
    "    min = digit2\n",
    "    \n",
    "if(min < digit3):\n",
    "    print (min)\n",
    "else:\n",
    "    print (digit3)"
   ]
  },
  {
   "cell_type": "code",
   "execution_count": 16,
   "metadata": {},
   "outputs": [
    {
     "name": "stdout",
     "output_type": "stream",
     "text": [
      "Excercise 17 조건문\n",
      "사용자로부터 점수를 입력받은 후 등급 출력\n",
      "A:81~100, B: 61~80, C: 0~60\n",
      "90\n",
      "Score : A\n"
     ]
    }
   ],
   "source": [
    "print('Exercise 17 조건문\\n사용자로부터 점수를 입력받은 후 등급 출력\\nA:81~100, B: 61~80, C: 0~60')\n",
    "score = int(input())\n",
    "\n",
    "if (score > 80) :\n",
    "    print('Score : A')\n",
    "elif (score > 60) :\n",
    "    print('Score : B')\n",
    "else :\n",
    "    print('Score : C')\n"
   ]
  },
  {
   "cell_type": "code",
   "execution_count": 18,
   "metadata": {},
   "outputs": [
    {
     "name": "stdout",
     "output_type": "stream",
     "text": [
      "Exercise 18 데이터구조 (리스트) \n",
      "사용자로부터 주민등록번호를 입력받아 출생연도를 출력하세요\n",
      "920113\n",
      "92\n"
     ]
    }
   ],
   "source": [
    "print ('Exercise 18 데이터구조 (리스트) \\n사용자로부터 주민등록번호를 입력받아 출생연도를 출력하세요') \n",
    "p_id = input()\n",
    "print(p_id[0:2])"
   ]
  },
  {
   "cell_type": "code",
   "execution_count": 21,
   "metadata": {},
   "outputs": [
    {
     "name": "stdout",
     "output_type": "stream",
     "text": [
      "Exercise 19 데이터구조 (리스트) \n",
      "주민번호 입력받아 뒷자리 맨 앞의 숫자 출력\n",
      "10\n"
     ]
    }
   ],
   "source": [
    "print ('Exercise 19 데이터구조 (리스트) \\n주민번호 입력받아 뒷자리 맨 앞의 숫자 출력') \n",
    "p_id = \"920113-1067018\"\n",
    "print (p_id[7])"
   ]
  },
  {
   "cell_type": "code",
   "execution_count": 26,
   "metadata": {},
   "outputs": [
    {
     "name": "stdout",
     "output_type": "stream",
     "text": [
      "Exercise 20 데이터구조 (리스트) \n",
      "주민번호 입력받아 남자와 여자 출력\n",
      "920113-4\n",
      "주민번호 확인요망\n"
     ]
    }
   ],
   "source": [
    "print ('Exercise 20 데이터구조 (리스트) \\n주민번호 입력받아 남자와 여자 출력') \n",
    "p_id = input()\n",
    "data = p_id[7]\n",
    "\n",
    "if (data == \"1\") :\n",
    "    print('남자')\n",
    "elif (data == \"2\") :\n",
    "    print('여자')\n",
    "else:\n",
    "    print('주민번호 확인요망')"
   ]
  },
  {
   "cell_type": "code",
   "execution_count": 29,
   "metadata": {},
   "outputs": [
    {
     "name": "stdout",
     "output_type": "stream",
     "text": [
      "Exercise 21 문자열 다루기 (strip) \n",
      "다음 문자열에서 ...를 제거하라\n",
      "a man. goes into the room.\n"
     ]
    }
   ],
   "source": [
    "print ('Exercise 21 문자열 다루기 (strip) \\n다음 문자열에서 ...를 제거하라')\n",
    "mystr = \"a man goes into the room...\"\n",
    "print (mystr.strip(\".\") + \".\")"
   ]
  },
  {
   "cell_type": "code",
   "execution_count": 35,
   "metadata": {
    "scrolled": true
   },
   "outputs": [
    {
     "name": "stdout",
     "output_type": "stream",
     "text": [
      "Exercise 22 문자열 다루기 (strip)\n",
      "주식 종목을 나타내는 종목코드에 공백과 줄바꿈 기호가 포함되어있다.\n",
      "공백과 줄바꿈 기호를 제거하고 종목코드만을 추출하라\n",
      "000660\n"
     ]
    }
   ],
   "source": [
    "print('Exercise 22 문자열 다루기 (strip)\\n주식 종목을 나타내는 종목코드에 공백과 줄바꿈 기호가 포함되어있다.\\n공백과 줄바꿈 기호를 제거하고 종목코드만을 추출하라')\n",
    "code=  '             000660\\n             '\n",
    "print(code.strip(' \\n'))"
   ]
  },
  {
   "cell_type": "code",
   "execution_count": 40,
   "metadata": {},
   "outputs": [
    {
     "name": "stdout",
     "output_type": "stream",
     "text": [
      "Exercise 23 문자열 다루기 (count)\n",
      "2\n",
      "2\n",
      "9\n"
     ]
    }
   ],
   "source": [
    "print('Exercise 23 문자열 다루기 (count)')\n",
    "#python 문자의 빈도수 출력\n",
    "script = \"Python is an interpreted high-level programming language for general-purpose programming. Created by Guido van Rossum and first released in 1991, Python has a design philosophy that emphasizes code readability, notably using significant whitespace. \"\n",
    "\n",
    "cnt_script = script.count(\"Python\")\n",
    "print(cnt_script)\n",
    "\n",
    "# Exercise 24\n",
    "cnt2_script = script.count(\"P\")\n",
    "print(cnt2_script)\n",
    "\n",
    "cnt2_script = script.count(\"p\")\n",
    "print(cnt2_script)\n",
    "\n",
    "#대문자, 소문자 구분함\n"
   ]
  },
  {
   "cell_type": "code",
   "execution_count": 45,
   "metadata": {},
   "outputs": [
    {
     "name": "stdout",
     "output_type": "stream",
     "text": [
      "Exercise 25 문자열 다루기 (문자열 인덱싱) \n",
      "letters라는 변수에 들어 있는 문자열에서 두번재와 네번째 문자를 출력하라\n",
      "y\n",
      "n\n",
      "3\n"
     ]
    }
   ],
   "source": [
    "print('Exercise 25 문자열 다루기 (문자열 인덱싱) \\nletters라는 변수에 들어 있는 문자열에서 두번재와 네번째 문자를 출력하라')\n",
    "letters = \"pytnhondn\"\n",
    "print(letters[1])\n",
    "print(letters[3])\n",
    "print(letters.find(\"n\")) # 인덱스 번호 출력\n",
    "\n"
   ]
  },
  {
   "cell_type": "code",
   "execution_count": 47,
   "metadata": {},
   "outputs": [
    {
     "name": "stdout",
     "output_type": "stream",
     "text": [
      "adf\n",
      "-1\n"
     ]
    }
   ],
   "source": [
    "# 문자열을 입력받아서 문자 n 이들어있는지 출력. 들어있으면 0, 없으면 -1 출력\n",
    "\n",
    "data = input()\n",
    "if (data.find(\"n\")) >=0 :\n",
    "    print(0)\n",
    "else :\n",
    "    print (-1)\n"
   ]
  },
  {
   "cell_type": "code",
   "execution_count": 52,
   "metadata": {},
   "outputs": [
    {
     "name": "stdout",
     "output_type": "stream",
     "text": [
      "920113-1067018\n",
      "06\n",
      "<class 'str'>\n",
      "6\n",
      "서울\n"
     ]
    }
   ],
   "source": [
    "# 28. 문자열 인덱싱 , 조건문 \n",
    "# 주민번호 뒷자리 7자리중 두번째부터 세번째는 출생지역 코드 (000000-0000000)\n",
    "# 지역코드 00~08 : 서울 09~12 : 부산\n",
    "\n",
    "data = input()\n",
    "print(data [8:10])\n",
    "\n",
    "p_data = data[8:10]\n",
    "print (type(p_data))\n",
    "print (int(p_data))\n",
    "\n",
    "p_data = int(p_data)\n",
    "\n",
    "if (p_data < 9 ) :\n",
    "    print ('서울')\n",
    "elif (p_data <13) :\n",
    "    print ('부산')\n",
    "else :\n",
    "    print ('다른지역')\n"
   ]
  },
  {
   "cell_type": "code",
   "execution_count": 55,
   "metadata": {},
   "outputs": [
    {
     "name": "stdout",
     "output_type": "stream",
     "text": [
      "['Dave', ' David', ' Andy']\n",
      "Dave\n",
      " David\n",
      " Andy\n",
      "Dave\n"
     ]
    }
   ],
   "source": [
    "# 29 문자열 다루기 split\n",
    "#letters 라는 변수에 Dave, David, Andy가 있는데 ,를 기준으로 분리해서 출력할것\n",
    "# ex) 'Dave', 'David', 'Andy'\n",
    "\n",
    "letters = \"Dave, David, Andy\"\n",
    "data = letters.split(\",\")\n",
    "print (data)\n",
    "\n",
    "for eachletter in data:\n",
    "    print(eachletter)\n",
    "    \n",
    "print (data[0])"
   ]
  },
  {
   "cell_type": "code",
   "execution_count": 57,
   "metadata": {},
   "outputs": [
    {
     "name": "stdout",
     "output_type": "stream",
     "text": [
      "exercise01\n"
     ]
    }
   ],
   "source": [
    "#30 문자열 다루기 split\n",
    "# 다음과 같은 파일 이름(확장자포함)에서 확장자를 제거한 파일 이름만 출력하세요\n",
    "file = 'exercise01.docx'\n",
    "\n",
    "print (file.split(\".\")[0])\n",
    "\n",
    "#split을 하면 배열이 되므로 인덱스로 값에 접근할수있다 "
   ]
  },
  {
   "cell_type": "code",
   "execution_count": null,
   "metadata": {},
   "outputs": [],
   "source": []
  }
 ],
 "metadata": {
  "kernelspec": {
   "display_name": "Python 3",
   "language": "python",
   "name": "python3"
  },
  "language_info": {
   "codemirror_mode": {
    "name": "ipython",
    "version": 3
   },
   "file_extension": ".py",
   "mimetype": "text/x-python",
   "name": "python",
   "nbconvert_exporter": "python",
   "pygments_lexer": "ipython3",
   "version": "3.8.5"
  }
 },
 "nbformat": 4,
 "nbformat_minor": 4
}
