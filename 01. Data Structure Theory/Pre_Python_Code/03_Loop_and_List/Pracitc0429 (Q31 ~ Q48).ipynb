{
 "cells": [
  {
   "cell_type": "code",
   "execution_count": 6,
   "metadata": {},
   "outputs": [
    {
     "name": "stdout",
     "output_type": "stream",
     "text": [
      "1\n",
      "2\n",
      "3\n",
      "4\n",
      "5\n",
      "6\n",
      "7\n",
      "8\n",
      "9\n",
      "10\n",
      "55\n"
     ]
    }
   ],
   "source": [
    "sum = 0\n",
    "for i in range(1, 11) :\n",
    "    sum += i\n",
    "    print(i)\n",
    "print (sum)"
   ]
  },
  {
   "cell_type": "code",
   "execution_count": 1,
   "metadata": {},
   "outputs": [
    {
     "name": "stdout",
     "output_type": "stream",
     "text": [
      "3\n",
      "3 x 1 = 3\n",
      "3 x 2 = 6\n",
      "3 x 3 = 9\n",
      "3 x 4 = 12\n",
      "3 x 5 = 15\n",
      "3 x 6 = 18\n",
      "3 x 7 = 21\n",
      "3 x 8 = 24\n",
      "3 x 9 = 27\n"
     ]
    }
   ],
   "source": [
    "digit = int(input())\n",
    "for num in range (1, 10):\n",
    "    print(digit, \"x\", num, \"=\", digit * num)"
   ]
  },
  {
   "cell_type": "code",
   "execution_count": 4,
   "metadata": {},
   "outputs": [
    {
     "name": "stdout",
     "output_type": "stream",
     "text": [
      "8\n",
      "8 x 1 = 8\n",
      "8 x 2 = 16\n",
      "8 x 3 = 24\n",
      "8 x 4 = 32\n",
      "8 x 5 = 40\n",
      "8 x 6 = 48\n",
      "8 x 7 = 56\n",
      "8 x 8 = 64\n",
      "8 x 9 = 72\n",
      "8 x 10 = 80\n"
     ]
    }
   ],
   "source": [
    "digit = int(input())\n",
    "\n",
    "if digit < 2 :\n",
    "    print(\"1보다 큰 수를 입력해주세요\")\n",
    "elif digit > 9 :\n",
    "    print(\"9보다 작은수를 입력해주세요\")\n",
    "else :\n",
    "    for num in range(1, 11):\n",
    "        print(digit, \"x\", num, \"=\", digit * num)"
   ]
  },
  {
   "cell_type": "code",
   "execution_count": 6,
   "metadata": {},
   "outputs": [
    {
     "name": "stdout",
     "output_type": "stream",
     "text": [
      "a\n",
      "b\n",
      "c\n",
      "d\n",
      "e\n"
     ]
    }
   ],
   "source": [
    "letters = \"a,b,c,d,e\"\n",
    "letterlist = letters.split(\",\")\n",
    "\n",
    "for word in letterlist:\n",
    "    print (word)\n"
   ]
  },
  {
   "cell_type": "code",
   "execution_count": 12,
   "metadata": {},
   "outputs": [
    {
     "name": "stdout",
     "output_type": "stream",
     "text": [
      "a][c\n",
      "b\n",
      "c\n",
      "d\n"
     ]
    }
   ],
   "source": [
    "letters = \"[a][c]],[b],[c]],[d]\"\n",
    "letterlist = letters.split(\",\")\n",
    "\n",
    "for word in letterlist:\n",
    "    print(word.strip(\"[]\"))"
   ]
  },
  {
   "cell_type": "code",
   "execution_count": 15,
   "metadata": {},
   "outputs": [
    {
     "name": "stdout",
     "output_type": "stream",
     "text": [
      "3\n",
      "6\n",
      "9\n",
      "12\n",
      "15\n",
      "18\n",
      "21\n",
      "24\n",
      "27\n",
      "30\n"
     ]
    }
   ],
   "source": [
    "num = 30;\n",
    "\n",
    "for i in range(1,num+1) :\n",
    "    if i % 3 == 0 :\n",
    "        print (i)\n",
    "\n"
   ]
  },
  {
   "cell_type": "code",
   "execution_count": 16,
   "metadata": {},
   "outputs": [
    {
     "name": "stdout",
     "output_type": "stream",
     "text": [
      "5050\n"
     ]
    }
   ],
   "source": [
    "sum, num = 0, 1\n",
    "\n",
    "while num < 101:\n",
    "    sum += num\n",
    "    num += 1\n",
    "print (sum)"
   ]
  },
  {
   "cell_type": "code",
   "execution_count": 17,
   "metadata": {},
   "outputs": [
    {
     "name": "stdout",
     "output_type": "stream",
     "text": [
      "5050\n"
     ]
    }
   ],
   "source": [
    "sum = 0\n",
    "\n",
    "for num in range (1, 101):\n",
    "    sum += num\n",
    "print (sum)"
   ]
  },
  {
   "cell_type": "code",
   "execution_count": 18,
   "metadata": {},
   "outputs": [
    {
     "name": "stdout",
     "output_type": "stream",
     "text": [
      "2222\n",
      "no\n",
      "4312\n",
      "ok\n"
     ]
    }
   ],
   "source": [
    "pw = \"4312\"\n",
    "\n",
    "    # 초기화 시키는법 -> str(), list() 등등\n",
    "data = str()\n",
    "\n",
    "while data != pw :\n",
    "    data = input()\n",
    "    if data == pw :\n",
    "        print (\"ok\")\n",
    "        break\n",
    "    else :\n",
    "        print (\"no\")"
   ]
  },
  {
   "cell_type": "code",
   "execution_count": 19,
   "metadata": {},
   "outputs": [
    {
     "name": "stdout",
     "output_type": "stream",
     "text": [
      "[0, 31, 22, 33]\n"
     ]
    }
   ],
   "source": [
    "num_list = [0, -11, 31, 22, -11, 33, -44, -55]\n",
    "    #list의 초기화 는 list()\n",
    "num_list2 = list()\n",
    "\n",
    "for num in num_list :\n",
    "    if num >= 0 :\n",
    "        num_list2.append(num)\n",
    "print (num_list2)"
   ]
  },
  {
   "cell_type": "code",
   "execution_count": 22,
   "metadata": {},
   "outputs": [
    {
     "name": "stdout",
     "output_type": "stream",
     "text": [
      "\"abd\"'s length is 3\n",
      "\"taxi\"'s length is 4\n",
      "\"joshua\"'s length is 6\n"
     ]
    }
   ],
   "source": [
    "list_word = [\"abd\", \"taxi\", \"joshua\"]\n",
    "\n",
    "for word in list_word :\n",
    "    print (\"\\\"\" + word +\"\\\"\" + \"'s length is\", len(word))"
   ]
  },
  {
   "cell_type": "code",
   "execution_count": 27,
   "metadata": {},
   "outputs": [
    {
     "name": "stdout",
     "output_type": "stream",
     "text": [
      "10\n",
      "9\n",
      "8\n",
      "7\n",
      "6\n",
      "5\n",
      "4\n",
      "3\n",
      "2\n",
      "1\n"
     ]
    }
   ],
   "source": [
    "data = [1,2,3,4,5,6,7,8,9,10]\n",
    "\n",
    "#배열을 뒤집으려면 reverse() 함수를 쓰자 \n",
    "data.reverse()\n",
    "\n",
    "for num in data :\n",
    "    print (num)\n"
   ]
  },
  {
   "cell_type": "code",
   "execution_count": 31,
   "metadata": {
    "scrolled": true
   },
   "outputs": [
    {
     "name": "stdout",
     "output_type": "stream",
     "text": [
      "exercise01\n",
      "exercise02\n",
      "exercise03\n",
      "exercise04\n"
     ]
    }
   ],
   "source": [
    "filelist = ['exercise01.docx', 'exercise02.docx', 'exercise03.docx', 'exercise04.docx']\n",
    "\n",
    "for file in filelist :\n",
    "    print(file.split('.')[0])"
   ]
  },
  {
   "cell_type": "code",
   "execution_count": 33,
   "metadata": {},
   "outputs": [
    {
     "name": "stdout",
     "output_type": "stream",
     "text": [
      "exercise03\n"
     ]
    }
   ],
   "source": [
    "filelist = ['exercise01.docx', 'exercise02.csv', 'exercise03.txt', 'exercise04.hwp']\n",
    "\n",
    "for file in filelist:\n",
    "    index = file.split(\".\")[1]\n",
    "    if index == \"txt\" :\n",
    "        print (file.split(\".\")[0])"
   ]
  },
  {
   "cell_type": "code",
   "execution_count": 37,
   "metadata": {},
   "outputs": [
    {
     "name": "stdout",
     "output_type": "stream",
     "text": [
      "111200 원\n"
     ]
    }
   ],
   "source": [
    "prices = '100 달러'\n",
    "\n",
    "dollar = int(prices.split(\" \")[0])\n",
    "\n",
    "won = dollar * 1112\n",
    "\n",
    "print (won, \"원\")\n"
   ]
  },
  {
   "cell_type": "code",
   "execution_count": null,
   "metadata": {},
   "outputs": [],
   "source": []
  }
 ],
 "metadata": {
  "kernelspec": {
   "display_name": "Python 3",
   "language": "python",
   "name": "python3"
  },
  "language_info": {
   "codemirror_mode": {
    "name": "ipython",
    "version": 3
   },
   "file_extension": ".py",
   "mimetype": "text/x-python",
   "name": "python",
   "nbconvert_exporter": "python",
   "pygments_lexer": "ipython3",
   "version": "3.8.5"
  }
 },
 "nbformat": 4,
 "nbformat_minor": 4
}
